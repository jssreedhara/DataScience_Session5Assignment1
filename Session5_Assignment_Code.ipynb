{
 "cells": [
  {
   "cell_type": "code",
   "execution_count": 20,
   "metadata": {},
   "outputs": [
    {
     "name": "stdout",
     "output_type": "stream",
     "text": [
      "Enter Numerator Value in number :5\n",
      "Enter Denominator Value in number :0\n",
      "Devided by Zero caused the error\n",
      "Result for passing 5/0 : Devided by Zero Error\n"
     ]
    }
   ],
   "source": [
    "#Session 5 Assignment by Sreedhara Jagatagar Sreenivasa\n",
    "#1. Write a function to compute 5/0 and use try/except to catch the exceptions.\n",
    "\n",
    "#write a class to intilize user entered values and compute the same.\n",
    "class zerodevider():\n",
    "    #Initilize the user entered values\n",
    "    def __init__(self, numerator, denominator):\n",
    "        self.numerator=numerator\n",
    "        self.denominator=denominator\n",
    "    \n",
    "    #Compute user entered values\n",
    "    def compute(self):\n",
    "        try:\n",
    "            self.result= self.numerator/self.denominator\n",
    "            return self.result\n",
    "        except ZeroDivisionError as e:\n",
    "            print('Devided by Zero caused the error')\n",
    "            return \"Devided by Zero Error\"\n",
    "        except Exception as e:\n",
    "            print('Other Errors ',e)\n",
    "\n",
    "#get value from user , Create Zero divider object, and call \"compute\" function\n",
    "try:\n",
    "    #Ask user enter Integers\n",
    "    userNumerator=int(input('Enter Numerator Value in number :'))\n",
    "    userDenominator=int(input('Enter Denominator Value in number :'))\n",
    "    \n",
    "    #Create zerodevider and intilize variables\n",
    "    ObjZeroDevider=zerodevider(userNumerator,userDenominator)\n",
    "    \n",
    "    #Call comput functions and print by passing 5 / 0\n",
    "    result=ObjZeroDevider.compute()\n",
    "    print('Result for passing 5/0 :',result)\n",
    "    \n",
    "#Handle Exceptions if user enters character or special character\n",
    "except ValueError as err:\n",
    "    print ('Enter Valid Integer Number')\n",
    "    \n",
    "#Handle exception if any other run time error\n",
    "except Exception as err:\n",
    "    print ('Other errors ',err)\n"
   ]
  },
  {
   "cell_type": "code",
   "execution_count": 23,
   "metadata": {},
   "outputs": [
    {
     "name": "stdout",
     "output_type": "stream",
     "text": [
      "Subject List:  ['Americans ', 'Indians']\n",
      "verbs List:  ['play', 'watch']\n",
      "objects List:  ['Baseball', 'Cricket']\n",
      "      \n",
      "Generated Sentences using above lists are: \n",
      "      \n",
      "Americans  play Baseball\n",
      "Americans  play Cricket\n",
      "Americans  watch Baseball\n",
      "Americans  watch Cricket\n",
      "Indians play Baseball\n",
      "Indians play Cricket\n",
      "Indians watch Baseball\n",
      "Indians watch Cricket\n"
     ]
    }
   ],
   "source": [
    "#Session 5 Assignment by Sreedhara Jagatagar Sreenivasa\n",
    "#2. Implement a Python program to generate all sentences where subject is in [\"Americans\",\n",
    "#\"Indians\"] and verb is in [\"Play\", \"watch\"] and the object is in [\"Baseball\",\"cricket\"].\n",
    "#Hint: Subject,Verb and Object should be declared in the program as shown below.\n",
    "#subjects=[\"Americans \",\"Indians\"]\n",
    "#verbs=[\"play\",\"watch\"]\n",
    "#objects=[\"Baseball\",\"Cricket\"]\n",
    "#Output should come as below:\n",
    "#Americans play Baseball.\n",
    "#Americans play Cricket.\n",
    "#Americans watch Baseball.\n",
    "#Americans watch Cricket.\n",
    "#Indians play Baseball.\n",
    "#Indians play Cricket.\n",
    "#Indians watch Baseball.\n",
    "#Indians watch Cricket.\n",
    "\n",
    "#Try and Except block to handle exceptions if any\n",
    "try:\n",
    "    #Declare lists to store Subjects, Verbs and Objects\n",
    "    subjects=[\"Americans \",\"Indians\"]\n",
    "    verbs=[\"play\",\"watch\"]\n",
    "    objects=[\"Baseball\",\"Cricket\"]\n",
    "    \n",
    "    #Print the lists\n",
    "    print ('Subject List: ',subjects)\n",
    "    print ('verbs List: ',verbs)\n",
    "    print ('objects List: ',objects)\n",
    "    print('      ')\n",
    "    \n",
    "    print('Generated Sentences using above lists are: ')\n",
    "    print('      ')\n",
    "    \n",
    "    #Use nested loop to go thorugh above lists and make sentenses\n",
    "    for sub in subjects:\n",
    "        for verb in verbs:\n",
    "            for obj in objects:\n",
    "                print(sub +' '+verb+' '+ obj)\n",
    "#Handle exceptions\n",
    "except Exception as e:\n",
    "    print('Other error. And error is',e )"
   ]
  }
 ],
 "metadata": {
  "kernelspec": {
   "display_name": "Python 3",
   "language": "python",
   "name": "python3"
  },
  "language_info": {
   "codemirror_mode": {
    "name": "ipython",
    "version": 3
   },
   "file_extension": ".py",
   "mimetype": "text/x-python",
   "name": "python",
   "nbconvert_exporter": "python",
   "pygments_lexer": "ipython3",
   "version": "3.6.5"
  }
 },
 "nbformat": 4,
 "nbformat_minor": 2
}
